{
 "cells": [
  {
   "cell_type": "code",
   "execution_count": 227,
   "metadata": {},
   "outputs": [],
   "source": [
    "import pandas as pd \n",
    "import numpy as np\n",
    "import pymysql\n",
    "import matplotlib.pyplot as plt \n",
    "%matplotlib inline\n",
    "import seaborn as sns"
   ]
  },
  {
   "cell_type": "code",
   "execution_count": null,
   "metadata": {},
   "outputs": [],
   "source": []
  },
  {
   "cell_type": "code",
   "execution_count": 325,
   "metadata": {},
   "outputs": [],
   "source": [
    "conn = pymysql.connect(host=,  \n",
    "                       port=,  \n",
    "                       user=,  \n",
    "                       passwd=,  \n",
    "                       db=,  \n",
    "                       charset='utf8')  "
   ]
  },
  {
   "cell_type": "code",
   "execution_count": 4,
   "metadata": {},
   "outputs": [],
   "source": [
    "sql_con = \"select * from consumer\"\n",
    "sql_con_prod = \"select * from consumer_product\"\n",
    "sql_con_ser = \"select * from consumer_servicerequest\"\n",
    "sql_sold = \"select * from sold_plan\""
   ]
  },
  {
   "cell_type": "code",
   "execution_count": 326,
   "metadata": {},
   "outputs": [],
   "source": [
    "df_con = pd.read_sql(sql_con,conn)\n",
    "df_con_prod = pd.read_sql(sql_con_prod,conn)\n",
    "df_con_serv = pd.read_sql(sql_con_ser,conn)\n",
    "df_sold = pd.read_sql(sql_sold,conn)\n"
   ]
  },
  {
   "cell_type": "markdown",
   "metadata": {},
   "source": [
    "# EDA"
   ]
  },
  {
   "cell_type": "markdown",
   "metadata": {},
   "source": [
    "# Converting Object datatype into datetime64\n"
   ]
  },
  {
   "cell_type": "markdown",
   "metadata": {},
   "source": [
    "- The datatype of two columns 'DateOfPurchase' & 'WarrantyTill' in 'consumer_product' table is 'object'.\n",
    "- So, for further analysis we need to convert the datatype of the above two columns to 'datetime64'."
   ]
  },
  {
   "cell_type": "code",
   "execution_count": 327,
   "metadata": {},
   "outputs": [],
   "source": [
    "df_con_prod['DateOfPurchase'] = pd.to_datetime(df_con_prod['DateOfPurchase'])\n",
    "df_con_prod['WarrantyTill'] = pd.to_datetime(df_con_prod['WarrantyTill'])\n"
   ]
  },
  {
   "cell_type": "markdown",
   "metadata": {},
   "source": [
    "# All Tables - Description"
   ]
  },
  {
   "cell_type": "markdown",
   "metadata": {},
   "source": [
    "- The description of all the tables show that the dataset has NO NULL value.\n",
    "- In 'consumer_Servicerequest' table, the column 'SoldPlanID' has value '0'. This means that particular consumer has not opted   for any plan."
   ]
  },
  {
   "cell_type": "code",
   "execution_count": 249,
   "metadata": {
    "scrolled": false
   },
   "outputs": [
    {
     "data": {
      "text/html": [
       "<div>\n",
       "<style scoped>\n",
       "    .dataframe tbody tr th:only-of-type {\n",
       "        vertical-align: middle;\n",
       "    }\n",
       "\n",
       "    .dataframe tbody tr th {\n",
       "        vertical-align: top;\n",
       "    }\n",
       "\n",
       "    .dataframe thead th {\n",
       "        text-align: right;\n",
       "    }\n",
       "</style>\n",
       "<table border=\"1\" class=\"dataframe\">\n",
       "  <thead>\n",
       "    <tr style=\"text-align: right;\">\n",
       "      <th></th>\n",
       "      <th>SoldPlanID</th>\n",
       "      <th>PlanID</th>\n",
       "      <th>PlanAmount</th>\n",
       "      <th>FulfillerID</th>\n",
       "      <th>ConsumerProductID</th>\n",
       "      <th>ConsumerID</th>\n",
       "      <th>Status</th>\n",
       "    </tr>\n",
       "  </thead>\n",
       "  <tbody>\n",
       "    <tr>\n",
       "      <th>count</th>\n",
       "      <td>2.321500e+04</td>\n",
       "      <td>23215.000000</td>\n",
       "      <td>23215.000000</td>\n",
       "      <td>23215.0</td>\n",
       "      <td>2.321500e+04</td>\n",
       "      <td>23215.000000</td>\n",
       "      <td>23215.000000</td>\n",
       "    </tr>\n",
       "    <tr>\n",
       "      <th>mean</th>\n",
       "      <td>9.993116e+05</td>\n",
       "      <td>9.986000</td>\n",
       "      <td>1348.950463</td>\n",
       "      <td>1.0</td>\n",
       "      <td>1.002056e+07</td>\n",
       "      <td>501018.936463</td>\n",
       "      <td>0.232393</td>\n",
       "    </tr>\n",
       "    <tr>\n",
       "      <th>std</th>\n",
       "      <td>5.750154e+05</td>\n",
       "      <td>5.474269</td>\n",
       "      <td>228.041644</td>\n",
       "      <td>0.0</td>\n",
       "      <td>5.777678e+06</td>\n",
       "      <td>287227.354238</td>\n",
       "      <td>2.165259</td>\n",
       "    </tr>\n",
       "    <tr>\n",
       "      <th>min</th>\n",
       "      <td>1.830000e+02</td>\n",
       "      <td>1.000000</td>\n",
       "      <td>999.000000</td>\n",
       "      <td>1.0</td>\n",
       "      <td>2.305000e+03</td>\n",
       "      <td>56.000000</td>\n",
       "      <td>-3.000000</td>\n",
       "    </tr>\n",
       "    <tr>\n",
       "      <th>25%</th>\n",
       "      <td>5.035295e+05</td>\n",
       "      <td>5.000000</td>\n",
       "      <td>1299.000000</td>\n",
       "      <td>1.0</td>\n",
       "      <td>5.013360e+06</td>\n",
       "      <td>255174.500000</td>\n",
       "      <td>-3.000000</td>\n",
       "    </tr>\n",
       "    <tr>\n",
       "      <th>50%</th>\n",
       "      <td>9.996500e+05</td>\n",
       "      <td>10.000000</td>\n",
       "      <td>1299.000000</td>\n",
       "      <td>1.0</td>\n",
       "      <td>1.004843e+07</td>\n",
       "      <td>498297.000000</td>\n",
       "      <td>0.000000</td>\n",
       "    </tr>\n",
       "    <tr>\n",
       "      <th>75%</th>\n",
       "      <td>1.498953e+06</td>\n",
       "      <td>15.000000</td>\n",
       "      <td>1499.000000</td>\n",
       "      <td>1.0</td>\n",
       "      <td>1.502322e+07</td>\n",
       "      <td>749913.500000</td>\n",
       "      <td>1.000000</td>\n",
       "    </tr>\n",
       "    <tr>\n",
       "      <th>max</th>\n",
       "      <td>1.999999e+06</td>\n",
       "      <td>19.000000</td>\n",
       "      <td>1599.000000</td>\n",
       "      <td>1.0</td>\n",
       "      <td>1.999927e+07</td>\n",
       "      <td>999966.000000</td>\n",
       "      <td>3.000000</td>\n",
       "    </tr>\n",
       "  </tbody>\n",
       "</table>\n",
       "</div>"
      ],
      "text/plain": [
       "         SoldPlanID        PlanID    PlanAmount  FulfillerID  \\\n",
       "count  2.321500e+04  23215.000000  23215.000000      23215.0   \n",
       "mean   9.993116e+05      9.986000   1348.950463          1.0   \n",
       "std    5.750154e+05      5.474269    228.041644          0.0   \n",
       "min    1.830000e+02      1.000000    999.000000          1.0   \n",
       "25%    5.035295e+05      5.000000   1299.000000          1.0   \n",
       "50%    9.996500e+05     10.000000   1299.000000          1.0   \n",
       "75%    1.498953e+06     15.000000   1499.000000          1.0   \n",
       "max    1.999999e+06     19.000000   1599.000000          1.0   \n",
       "\n",
       "       ConsumerProductID     ConsumerID        Status  \n",
       "count       2.321500e+04   23215.000000  23215.000000  \n",
       "mean        1.002056e+07  501018.936463      0.232393  \n",
       "std         5.777678e+06  287227.354238      2.165259  \n",
       "min         2.305000e+03      56.000000     -3.000000  \n",
       "25%         5.013360e+06  255174.500000     -3.000000  \n",
       "50%         1.004843e+07  498297.000000      0.000000  \n",
       "75%         1.502322e+07  749913.500000      1.000000  \n",
       "max         1.999927e+07  999966.000000      3.000000  "
      ]
     },
     "execution_count": 249,
     "metadata": {},
     "output_type": "execute_result"
    }
   ],
   "source": [
    "df_con.describe()\n",
    "df_con_prod.describe()\n",
    "df_con_serv.describe()\n",
    "df_sold.describe()"
   ]
  },
  {
   "cell_type": "markdown",
   "metadata": {},
   "source": [
    "# EDA on consumer_servicerequest and sold_plan table"
   ]
  },
  {
   "cell_type": "markdown",
   "metadata": {},
   "source": [
    "Observation 1 :\n",
    "\n",
    "From the initial EDA of 'consumer_servicerequest' table it is observed that the value of 'SoldPlanID' column for many rows is zero. \n",
    "\n",
    "e.g \n",
    "- Total record in consumer_servicerequest = 27546\n",
    "- Total zeroes in SoldPlanId column = 18241 = ~66% of total service requests.\n",
    "\n",
    "We can conclude from the above observation, ~33% consumers are using their paid plans to request a service and rest of the ~66% consumers are using their device warranty to request a service.\n",
    "\n"
   ]
  },
  {
   "cell_type": "code",
   "execution_count": 195,
   "metadata": {
    "scrolled": true
   },
   "outputs": [
    {
     "data": {
      "text/plain": [
       "18241"
      ]
     },
     "execution_count": 195,
     "metadata": {},
     "output_type": "execute_result"
    }
   ],
   "source": [
    "df_con_serv[df_con_serv['SoldPlanID'] == 0]['SoldPlanID'].count()"
   ]
  },
  {
   "cell_type": "markdown",
   "metadata": {},
   "source": [
    "Observation 2 :\n",
    "\n",
    "It is observed from 'consumer_servicerequest' table, there are 5 unique types of services ('ServiceTypeID') available to the consumers. And according to 'sold_plan' table values, paid consumers are using only 3 types of services ('ServiceTypeID').\n",
    "\n",
    "The observation is explained below :"
   ]
  },
  {
   "cell_type": "code",
   "execution_count": 211,
   "metadata": {},
   "outputs": [
    {
     "name": "stdout",
     "output_type": "stream",
     "text": [
      "Total Unique ServiceTypeID :  [ 1  2 12 11 10]\n",
      "\n",
      "Total number of Service request raised on each ServiceType: ServiceTypeID\n",
      "1     9264\n",
      "2     8977\n",
      "10    3075\n",
      "11    3143\n",
      "12    3087\n",
      "Name: ServiceTypeID, dtype: int64\n"
     ]
    }
   ],
   "source": [
    "#Total ServiceTypeID = 5 (Types = 1, 2, 10, 11, 12) \n",
    "\n",
    "print('Total Unique ServiceTypeID : ', df_con_serv['ServiceTypeID'].unique())\n",
    "print('\\nTotal number of Service request raised on each ServiceType:',df_con_serv.groupby(['ServiceTypeID'])['ServiceTypeID'].count())"
   ]
  },
  {
   "cell_type": "code",
   "execution_count": 1,
   "metadata": {},
   "outputs": [],
   "source": [
    "#Query - inner join of 'consumer_servicerequest' and 'sold_plan' table\n",
    "sql_service = \"select cs.ConsumerID, sp.SoldPlanID, cs.ServiceTypeID, sp.PlanID, sp.PlanAmount, cs.Source from consumer_servicerequest cs inner join sold_plan sp on cs.SoldPlanID = sp.SoldPlanID AND cs.ConsumerProductID = sp.ConsumerProductID\""
   ]
  },
  {
   "cell_type": "code",
   "execution_count": null,
   "metadata": {},
   "outputs": [],
   "source": []
  },
  {
   "cell_type": "code",
   "execution_count": 200,
   "metadata": {},
   "outputs": [],
   "source": [
    "#Dataframe containing Inner join dataset\n",
    "df_service  = pd.read_sql(sql_service, conn)"
   ]
  },
  {
   "cell_type": "code",
   "execution_count": 217,
   "metadata": {},
   "outputs": [
    {
     "name": "stdout",
     "output_type": "stream",
     "text": [
      "Total number of Service request raised on each ServiceType by Paid Consumers:\n",
      " ServiceTypeID\n",
      "10    3075\n",
      "11    3143\n",
      "12    3087\n",
      "Name: SoldPlanID, dtype: int64\n",
      "\n",
      "Total paid consumers raising Servicerequest: 9305\n"
     ]
    }
   ],
   "source": [
    "#Types of paid services consumers are using - only 3 Types = 10, 11, 12.\n",
    "print('Total number of Service request raised on each ServiceType by Paid Consumers:\\n',df_service.groupby(['ServiceTypeID'])['SoldPlanID'].count())\n",
    "\n",
    "#Total sum of SoldPlanID using Service = 9305\n",
    "print('\\nTotal paid consumers raising Servicerequest:',df_service.groupby(['ServiceTypeID'])['SoldPlanID'].count().sum())"
   ]
  },
  {
   "cell_type": "markdown",
   "metadata": {},
   "source": [
    "Observation 3 :\n",
    "\n",
    "It can be concluded that only 40% paid plan holders are requesting a service. \n",
    "    - Total consumers bought the plan = 23215\n",
    "    - Total consumers raised the service request from paid plans = 9305 = ~40% consumers used their paid plan.\n",
    "    - ~60% 'paid plan holders' still don't have any issue with their devices.\n",
    "    "
   ]
  },
  {
   "cell_type": "code",
   "execution_count": 239,
   "metadata": {},
   "outputs": [
    {
     "data": {
      "text/plain": [
       "23215"
      ]
     },
     "execution_count": 239,
     "metadata": {},
     "output_type": "execute_result"
    }
   ],
   "source": [
    "df_sold['SoldPlanID'].count()"
   ]
  },
  {
   "cell_type": "code",
   "execution_count": 240,
   "metadata": {},
   "outputs": [
    {
     "data": {
      "text/plain": [
       "9305"
      ]
     },
     "execution_count": 240,
     "metadata": {},
     "output_type": "execute_result"
    }
   ],
   "source": [
    "df_service['SoldPlanID'].count()"
   ]
  },
  {
   "cell_type": "markdown",
   "metadata": {},
   "source": [
    "Observation 4 :\n",
    "\n",
    "From the 'sold_plan' table we get to know that the consumers opt a paid service through 5 sources.\n",
    "\n",
    "- And almost all the sources are effective for the sale of plans because all the sources fetched almost equal number of consumers. \n",
    "    "
   ]
  },
  {
   "cell_type": "code",
   "execution_count": 222,
   "metadata": {},
   "outputs": [
    {
     "data": {
      "text/plain": [
       "Source\n",
       "Amazon     4611\n",
       "App        4672\n",
       "Offline    4551\n",
       "Store      4722\n",
       "Web        4659\n",
       "Name: ConsumerID, dtype: int64"
      ]
     },
     "execution_count": 222,
     "metadata": {},
     "output_type": "execute_result"
    }
   ],
   "source": [
    "df_sold.groupby(['Source'])['ConsumerID'].count()"
   ]
  },
  {
   "cell_type": "code",
   "execution_count": 238,
   "metadata": {},
   "outputs": [
    {
     "data": {
      "image/png": "[encoded data removed]",
      "text/plain": [
       "<Figure size 432x288 with 1 Axes>"
      ]
     },
     "metadata": {
      "needs_background": "light"
     },
     "output_type": "display_data"
    }
   ],
   "source": [
    "plt.bar( df_sold['Source'].unique(), df_sold.groupby(['Source'])['ConsumerID'].count())\n",
    "plt.xlabel('Source of Activation of plan')\n",
    "plt.ylabel('No. Consumers holding the plan')\n",
    "plt.show()"
   ]
  },
  {
   "cell_type": "markdown",
   "metadata": {},
   "source": [
    "# Total Revenue Generated"
   ]
  },
  {
   "cell_type": "markdown",
   "metadata": {},
   "source": [
    "Observation 5 : \n",
    "\n",
    "Through analysis, it is observed that PlanId 14 is generating the highest revenue for the company and comparatively PlanId 5 is generating the lowest revenue.\n",
    "\n",
    "So we can use this observation to make certain policy changes in the low revenue generating plans."
   ]
  },
  {
   "cell_type": "code",
   "execution_count": 250,
   "metadata": {},
   "outputs": [],
   "source": [
    "sql_revenue = 'select PlanID, PlanAmount, Count(ConsumerID) from sold_plan group by PlanID, PlanAmount'"
   ]
  },
  {
   "cell_type": "code",
   "execution_count": 252,
   "metadata": {},
   "outputs": [],
   "source": [
    "df_revenue = pd.read_sql(sql_revenue,conn)"
   ]
  },
  {
   "cell_type": "code",
   "execution_count": 253,
   "metadata": {},
   "outputs": [],
   "source": [
    "#Total Revenue Generated groupby with planID and PlanAmount:\n",
    "df_revenue['TotalRevenue'] = df_revenue['PlanAmount'] * df_revenue['Count(ConsumerID)']\n"
   ]
  },
  {
   "cell_type": "code",
   "execution_count": 254,
   "metadata": {},
   "outputs": [],
   "source": [
    "a = df_revenue['PlanID'].unique()\n",
    "b = df_revenue.groupby(['PlanID'])['TotalRevenue'].sum().values"
   ]
  },
  {
   "cell_type": "code",
   "execution_count": 255,
   "metadata": {},
   "outputs": [
    {
     "name": "stdout",
     "output_type": "stream",
     "text": [
      "Highest revenue generated by :  PlanID  TotalRevenue\n",
      "     14       1732729\n",
      "Lowest Revenue generated by :  PlanID  TotalRevenue\n",
      "      5       1563929\n"
     ]
    }
   ],
   "source": [
    "#Total revenue fetched by each Plan from first to last Date: \n",
    "#ag is a Dataframe having PlanId and TotalRevenue columns\n",
    "ag = np.array([a,b])\n",
    "ag = pd.DataFrame({'PlanID':ag[0,:], 'TotalRevenue':ag[1,:]})\n",
    "\n",
    "\n",
    "#Highest and Lowest Revenue generated by PLans:\n",
    "#HIghest\n",
    "print(\"Highest revenue generated by :\",ag[ag['TotalRevenue'] == ag['TotalRevenue'].max()][['PlanID','TotalRevenue']].to_string(index=False))\n",
    "\n",
    "#lowest\n",
    "print(\"Lowest Revenue generated by :\",ag[ag['TotalRevenue'] == ag['TotalRevenue'].min()][['PlanID','TotalRevenue']].to_string(index=False))\n"
   ]
  },
  {
   "cell_type": "markdown",
   "metadata": {},
   "source": [
    "# The brand (BrandID) with the highest number of plans bought by customers"
   ]
  },
  {
   "cell_type": "markdown",
   "metadata": {},
   "source": [
    "Observation 6 :\n",
    "\n",
    "The consumers with a particular BrandId (i.e 16) are opting highest number of paid plans for a service. So as a service provider, we must focus on the popularity of the service opted for that brand."
   ]
  },
  {
   "cell_type": "code",
   "execution_count": 296,
   "metadata": {},
   "outputs": [],
   "source": [
    "# query\n",
    "sql_brand  = \"select sp.ConsumerID, cp.BrandID, sp.PlanID from  consumer_product as cp inner join sold_plan as sp on cp.ConsumerID = sp.ConsumerID AND cp.ConsumerProductID = sp.ConsumerProductID;\""
   ]
  },
  {
   "cell_type": "code",
   "execution_count": 297,
   "metadata": {},
   "outputs": [],
   "source": [
    "df_brand = pd.read_sql(sql_brand,conn)"
   ]
  },
  {
   "cell_type": "code",
   "execution_count": 299,
   "metadata": {},
   "outputs": [],
   "source": [
    "#Groupby\n",
    "df_brand = df_brand.groupby(['BrandID'], as_index=False).count()"
   ]
  },
  {
   "cell_type": "code",
   "execution_count": 300,
   "metadata": {},
   "outputs": [
    {
     "name": "stdout",
     "output_type": "stream",
     "text": [
      "The brand (BrandID) with the highest number of plans bought by customers :   16\n"
     ]
    }
   ],
   "source": [
    "#Max() of PlanID total numbers under each Brand:\n",
    "print(\"The brand (BrandID) with the highest number of plans bought by customers : \",df_brand[df_brand['PlanID'] == df_brand['PlanID'].max()]['BrandID'].to_string(index=False))"
   ]
  },
  {
   "cell_type": "markdown",
   "metadata": {},
   "source": [
    "Observation 7 : \n",
    "\n",
    "Apart from all the above observations, there is one more observation which was not analyzed due to incorrect values in the table. The observation is explained below : \n",
    "     \n",
    "     - From the 'consumer_servicerequest' table, the columns 'Lat', 'Lng' and 'Zipcode' can be used to analyze the consumer's service requests coming from a particular area and through which we can tap a good customer base. Thus the service provider can design certain service plans for future customer choices."
   ]
  }
 ],
 "metadata": {
  "kernelspec": {
   "display_name": "Python 3",
   "language": "python",
   "name": "python3"
  },
  "language_info": {
   "codemirror_mode": {
    "name": "ipython",
    "version": 3
   },
   "file_extension": ".py",
   "mimetype": "text/x-python",
   "name": "python",
   "nbconvert_exporter": "python",
   "pygments_lexer": "ipython3",
   "version": "3.7.3"
  }
 },
 "nbformat": 4,
 "nbformat_minor": 2
}
