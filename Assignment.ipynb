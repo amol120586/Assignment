{
 "cells": [
  {
   "cell_type": "markdown",
   "metadata": {},
   "source": [
    "#Installed pymysql to make connection with mysql"
   ]
  },
  {
   "cell_type": "code",
   "execution_count": null,
   "metadata": {},
   "outputs": [],
   "source": [
    "#pip install pymysql"
   ]
  },
  {
   "cell_type": "code",
   "execution_count": 1,
   "metadata": {},
   "outputs": [],
   "source": [
    "#Imported libraries:\n",
    "import pymysql\n",
    "import pandas as pd"
   ]
  },
  {
   "cell_type": "markdown",
   "metadata": {},
   "source": [
    "# Connection with mysql"
   ]
  },
  {
   "cell_type": "code",
   "execution_count": 2,
   "metadata": {},
   "outputs": [],
   "source": [
    "#Making connection with the client database using authentications:\n",
    "conn = pymysql.connect(host=,  \n",
    "                       port=,  \n",
    "                       user=,  \n",
    "                       passwd=,  \n",
    "                       db=,  \n",
    "                       charset='utf8')  "
   ]
  },
  {
   "cell_type": "code",
   "execution_count": 3,
   "metadata": {},
   "outputs": [],
   "source": [
    "#Queries to fetch data from database:\n",
    "sql_con = \"select * from consumer\"\n",
    "sql_con_prod = \"select * from consumer_product\"\n",
    "sql_con_ser = \"select * from consumer_servicerequest\"\n",
    "sql_sold = \"select * from sold_plan\""
   ]
  },
  {
   "cell_type": "code",
   "execution_count": 4,
   "metadata": {},
   "outputs": [],
   "source": [
    "#Reading SQl into Dataframe:\n",
    "df_con = pd.read_sql(sql_con,conn)\n",
    "df_con_prod = pd.read_sql(sql_con_prod,conn)\n",
    "df_con_serv = pd.read_sql(sql_con_ser,conn)\n",
    "df_sold = pd.read_sql(sql_sold,conn)"
   ]
  },
  {
   "cell_type": "code",
   "execution_count": null,
   "metadata": {},
   "outputs": [],
   "source": [
    "#Writing Dataframe to csv, So that it can be used with Tableau:\n",
    "df_con.to_csv(r'C:\\Users\\Mangesh\\Desktop\\df_con.csv', index=True, header=True)\n",
    "df_con_prod.to_csv(r'C:\\Users\\Mangesh\\Desktop\\df_con_prod.csv', index=True, header=True)\n",
    "df_con_serv.to_csv(r'C:\\Users\\Mangesh\\Desktop\\df_con_serv.csv', index=True, header=True)\n",
    "df_sold.to_csv(r'C:\\Users\\Mangesh\\Desktop\\df_sold.csv', index=True, header=True)"
   ]
  },
  {
   "cell_type": "markdown",
   "metadata": {},
   "source": [
    "# The percentage of service requests raised under a plan of the total number of requests raised."
   ]
  },
  {
   "cell_type": "markdown",
   "metadata": {},
   "source": [
    "Requirement says:\n",
    "    1. Count the total no of Consumer Service Request raised.\n",
    "    2. Count the no. of Consumer Service Request under individual planID.\n",
    "    3. Then Count the percentage of 'ConsumerServiceRequest raised under individual PlanID' of \n",
    "    'Total no of ConsumerServiceRequest raised'  \n",
    "-To fulfill above requirement we need only three columns 'ConsumerRequestID', 'SoldPlanID' and 'PlanID' from two tables \n",
    "'consumer_servicerequest' and 'sold_plan'\n",
    "\n",
    "-'SoldPlanID' is the foreign key.\n",
    "\n",
    "-I have used 'Right Outer Join' as 'PlanID' is important beacause we need to seggregate on the basis of 'PlanID'.\n",
    "\n",
    "-And in table 'consumer_servicerequest', column 'PlanID' is not mapped with column 'ConsumerServiceRequestID'.\n",
    "\n",
    "-I found many '0' values when I mapped thoese two tables, which suggests that there are many cells with 'ConsumerServiceRequestID' but no 'PlanID' mapped to it. So I dropped 'NA' values.\n",
    "\n",
    "- Then I simply take shape[0] id of the Dataframe, which gave me 'total no of service request raised'.\n",
    "\n",
    "- Then I groupby='PlanID' so I got 'no of records of service request raised' under each 'PlanID'.\n",
    "\n",
    "- Then I performed simple percentage operation on two values."
   ]
  },
  {
   "cell_type": "code",
   "execution_count": 5,
   "metadata": {},
   "outputs": [],
   "source": [
    "# Query for fetching data, related to ConsumerRequest, SoldPlan and PLanID:\n",
    "\n",
    "sql_per_serv = \"select cs.ConsumerServiceRequestID, sp.SoldPlanID, sp.PlanID from consumer_servicerequest as cs right outer join sold_plan as sp on cs.SoldPlanID = sp.SoldPlanID;\"\n"
   ]
  },
  {
   "cell_type": "code",
   "execution_count": 6,
   "metadata": {},
   "outputs": [],
   "source": [
    "#read data\n",
    "df_per_serv = pd.read_sql(sql_per_serv,conn)"
   ]
  },
  {
   "cell_type": "code",
   "execution_count": 7,
   "metadata": {},
   "outputs": [],
   "source": [
    "#Drop NA values\n",
    "df_per_serv = df_per_serv.dropna(how='any', axis=0)"
   ]
  },
  {
   "cell_type": "code",
   "execution_count": 8,
   "metadata": {},
   "outputs": [],
   "source": [
    "#Total No of service request (i.e Row count) \n",
    "total_req = df_per_serv.shape[0]"
   ]
  },
  {
   "cell_type": "code",
   "execution_count": 9,
   "metadata": {},
   "outputs": [],
   "source": [
    "#GroupBy on the basis of 'PlanID'\n",
    "df_per_serv = df_per_serv.groupby('PlanID', as_index=False).count()"
   ]
  },
  {
   "cell_type": "code",
   "execution_count": 10,
   "metadata": {},
   "outputs": [
    {
     "name": "stdout",
     "output_type": "stream",
     "text": [
      "The percentage of service requests raised under a plan of the total number of requests raised: \n",
      "\n",
      "Total No of requests raised:9305 \n",
      "\n",
      "PlnaID 1 : Percentage of requests raised 5.44 %\n",
      "PlnaID 2 : Percentage of requests raised 5.35 %\n",
      "PlnaID 3 : Percentage of requests raised 5.26 %\n",
      "PlnaID 4 : Percentage of requests raised 5.22 %\n",
      "PlnaID 5 : Percentage of requests raised 5.09 %\n",
      "PlnaID 6 : Percentage of requests raised 5.21 %\n",
      "PlnaID 7 : Percentage of requests raised 5.15 %\n",
      "PlnaID 8 : Percentage of requests raised 5.35 %\n",
      "PlnaID 9 : Percentage of requests raised 5.17 %\n",
      "PlnaID 10 : Percentage of requests raised 5.27 %\n",
      "PlnaID 11 : Percentage of requests raised 5.17 %\n",
      "PlnaID 12 : Percentage of requests raised 5.35 %\n",
      "PlnaID 13 : Percentage of requests raised 4.95 %\n",
      "PlnaID 14 : Percentage of requests raised 5.43 %\n",
      "PlnaID 15 : Percentage of requests raised 5.27 %\n",
      "PlnaID 16 : Percentage of requests raised 5.39 %\n",
      "PlnaID 17 : Percentage of requests raised 5.29 %\n",
      "PlnaID 18 : Percentage of requests raised 5.2 %\n",
      "PlnaID 19 : Percentage of requests raised 5.44 %\n"
     ]
    }
   ],
   "source": [
    "#Percentage Operation\n",
    "print(\"The percentage of service requests raised under a plan of the total number of requests raised: \\n\")\n",
    "print (\"Total No of requests raised:{} \\n\".format(total_req))\n",
    "for i in range(df_per_serv.shape[0]):    \n",
    "    per = round(((df_per_serv.ConsumerServiceRequestID[i]*100)/total_req),2)\n",
    "    print(\"PlnaID {} : Percentage of requests raised {} %\".format(df_per_serv['PlanID'][i],per))"
   ]
  },
  {
   "cell_type": "markdown",
   "metadata": {},
   "source": [
    "# The average number of plans sold per week"
   ]
  },
  {
   "cell_type": "markdown",
   "metadata": {},
   "source": [
    "Requirement says:\n",
    "    1. Count the total no of plans sold.\n",
    "    2. Count the number of weeks in total dataset from 'DateOfPurchase'\n",
    "    \n",
    "- I need only one table 'sold_plan' and two columns 'SoldPlanID' and 'DateOfPurchase'.\n",
    "\n",
    "- I have added two columns in to the dataset 1.'Year' & 2. 'Week'.\n",
    "\n",
    "- Groupby the Data on two columns - 'year' and 'week' - In each yaer there are many weeks.\n",
    "\n",
    "- length of the Dataframe gave me 'Total no of weeks'.\n",
    "\n",
    "- shape[0] (I.e NO of rows) of initial Dataframe gave me 'Total No of plans sold'\n",
    "\n",
    "- Then simple average calculation. \n"
   ]
  },
  {
   "cell_type": "code",
   "execution_count": 11,
   "metadata": {},
   "outputs": [],
   "source": [
    "#Query to find the reliable data with 'SoldPlan' and 'DateOfPurchase'\n",
    "sql_avg_plan = \"select sp.SoldPlanID, sp.DateOfPurchase from sold_plan as sp\""
   ]
  },
  {
   "cell_type": "code",
   "execution_count": 12,
   "metadata": {},
   "outputs": [],
   "source": [
    "#Dataframe \n",
    "def_avg_plan = pd.read_sql(sql_avg_plan,conn)"
   ]
  },
  {
   "cell_type": "code",
   "execution_count": 13,
   "metadata": {},
   "outputs": [],
   "source": [
    "#Adding column with number of week in the year from 'DateOfPurchase'\n",
    "def_avg_plan['week']=def_avg_plan.DateOfPurchase.dt.weekofyear"
   ]
  },
  {
   "cell_type": "code",
   "execution_count": 14,
   "metadata": {},
   "outputs": [],
   "source": [
    "#Adding another column with year from 'DateOfPurchase'\n",
    "def_avg_plan['year']=def_avg_plan.DateOfPurchase.dt.year"
   ]
  },
  {
   "cell_type": "code",
   "execution_count": 15,
   "metadata": {},
   "outputs": [],
   "source": [
    "# Groupby the Data on two columns - 'year' and 'week' - In each yaer there are many weeks.\n",
    "# Taking length of the Dataframe gives - total no of weeks present in the dataset.\n",
    "no_of_week = len(def_avg_plan.groupby(['year','week']))\n"
   ]
  },
  {
   "cell_type": "code",
   "execution_count": 16,
   "metadata": {},
   "outputs": [
    {
     "name": "stdout",
     "output_type": "stream",
     "text": [
      "The average number of plans sold per week :~ 189\n"
     ]
    }
   ],
   "source": [
    "# Calculating Average:\n",
    "avg = def_avg_plan.shape[0]/no_of_week\n",
    "print(\"The average number of plans sold per week :~\", round(avg))"
   ]
  },
  {
   "cell_type": "markdown",
   "metadata": {},
   "source": [
    "# The brand (BrandID) with the highest number of plans bought by customers"
   ]
  },
  {
   "cell_type": "markdown",
   "metadata": {},
   "source": [
    "Requirement says:\n",
    "    1. Highest no of plans sold.\n",
    "    2. Brand with highest no of plans sold.\n",
    "- I have used two tables -  1.consumer_product\n",
    "                            2.sold_plan\n",
    "\n",
    "-and two columns 1.BRandID \n",
    "                 2. PlanID\n",
    "    \n",
    "- I have used simple inner join as we need only thoese 'BRandID' which has 'PlanID'.\n",
    "\n",
    "- Then Groupby the dataset on the basis of 'BrandID'. \n",
    "\n",
    "- Count() - Method gave me no of PLanID under each BrandID.\n",
    "\n",
    "- I checked for the max() 'PLanID' number (i.e sum) And BrandID attached to it, is our final answer. "
   ]
  },
  {
   "cell_type": "code",
   "execution_count": 17,
   "metadata": {},
   "outputs": [],
   "source": [
    "# query\n",
    "sql_brand  = \"select cp.BrandID, sp.PlanID from  consumer_product as cp inner join sold_plan as sp on cp.ConsumerID = sp.ConsumerID AND cp.ConsumerProductID = sp.ConsumerProductID;\"\n"
   ]
  },
  {
   "cell_type": "code",
   "execution_count": 18,
   "metadata": {},
   "outputs": [],
   "source": [
    "\n",
    "df_brand = pd.read_sql(sql_brand,conn)\n"
   ]
  },
  {
   "cell_type": "code",
   "execution_count": 19,
   "metadata": {},
   "outputs": [],
   "source": [
    "#Groupby\n",
    "df_brand = df_brand.groupby('BrandID', as_index=False).count()"
   ]
  },
  {
   "cell_type": "code",
   "execution_count": 20,
   "metadata": {},
   "outputs": [
    {
     "name": "stdout",
     "output_type": "stream",
     "text": [
      "The brand (BrandID) with the highest number of plans bought by customers :   16\n"
     ]
    }
   ],
   "source": [
    "#Max() of PlanID total numbers under each Brand:\n",
    "print(\"The brand (BrandID) with the highest number of plans bought by customers : \",df_brand[df_brand['PlanID'] == df_brand['PlanID'].max()]['BrandID'].to_string(index=False))"
   ]
  },
  {
   "cell_type": "markdown",
   "metadata": {},
   "source": [
    "# Connection close"
   ]
  },
  {
   "cell_type": "code",
   "execution_count": 22,
   "metadata": {},
   "outputs": [],
   "source": [
    "conn.close()"
   ]
  },
  {
   "cell_type": "code",
   "execution_count": null,
   "metadata": {},
   "outputs": [],
   "source": []
  }
 ],
 "metadata": {
  "kernelspec": {
   "display_name": "Python 3",
   "language": "python",
   "name": "python3"
  },
  "language_info": {
   "codemirror_mode": {
    "name": "ipython",
    "version": 3
   },
   "file_extension": ".py",
   "mimetype": "text/x-python",
   "name": "python",
   "nbconvert_exporter": "python",
   "pygments_lexer": "ipython3",
   "version": "3.7.3"
  }
 },
 "nbformat": 4,
 "nbformat_minor": 2
}
